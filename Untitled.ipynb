{
 "cells": [
  {
   "cell_type": "code",
   "execution_count": 182,
   "id": "67020df5",
   "metadata": {},
   "outputs": [],
   "source": [
    "import pandas as pd\n",
    "import numpy as np\n",
    "from scipy.stats import norm\n",
    "import matplotlib.pyplot as plt\n",
    "from matplotlib.pyplot import figure"
   ]
  },
  {
   "cell_type": "code",
   "execution_count": 183,
   "id": "cf79c40b",
   "metadata": {},
   "outputs": [],
   "source": [
    "data = pd.read_excel('Contingent Credit Risk - Archegos Data.xlsx',skiprows=1,header=1,usecols='C:Q',parse_dates=True)"
   ]
  },
  {
   "cell_type": "code",
   "execution_count": 184,
   "id": "66c4bcd2",
   "metadata": {
    "scrolled": true
   },
   "outputs": [
    {
     "data": {
      "text/html": [
       "<div>\n",
       "<style scoped>\n",
       "    .dataframe tbody tr th:only-of-type {\n",
       "        vertical-align: middle;\n",
       "    }\n",
       "\n",
       "    .dataframe tbody tr th {\n",
       "        vertical-align: top;\n",
       "    }\n",
       "\n",
       "    .dataframe thead th {\n",
       "        text-align: right;\n",
       "    }\n",
       "</style>\n",
       "<table border=\"1\" class=\"dataframe\">\n",
       "  <thead>\n",
       "    <tr style=\"text-align: right;\">\n",
       "      <th></th>\n",
       "      <th>Ticker</th>\n",
       "      <th>TME</th>\n",
       "      <th>BIDU</th>\n",
       "      <th>VIPS</th>\n",
       "      <th>FTCH</th>\n",
       "      <th>IQ</th>\n",
       "      <th>VIAC</th>\n",
       "      <th>DISCA</th>\n",
       "      <th>TCEHY</th>\n",
       "      <th>GOTU</th>\n",
       "      <th>SPY</th>\n",
       "      <th>Long</th>\n",
       "      <th>Short</th>\n",
       "      <th>Gross</th>\n",
       "      <th>Net</th>\n",
       "    </tr>\n",
       "  </thead>\n",
       "  <tbody>\n",
       "    <tr>\n",
       "      <th>0</th>\n",
       "      <td>Position size Dollars</td>\n",
       "      <td>1427460000</td>\n",
       "      <td>1587376000</td>\n",
       "      <td>709080000</td>\n",
       "      <td>1416420000</td>\n",
       "      <td>625651000</td>\n",
       "      <td>2339064000</td>\n",
       "      <td>784844000</td>\n",
       "      <td>3313600000</td>\n",
       "      <td>1182775000</td>\n",
       "      <td>-6466120000</td>\n",
       "      <td>1.338627e+10</td>\n",
       "      <td>6.466120e+09</td>\n",
       "      <td>1.985239e+10</td>\n",
       "      <td>6.920150e+09</td>\n",
       "    </tr>\n",
       "    <tr>\n",
       "      <th>1</th>\n",
       "      <td>Position size Shares</td>\n",
       "      <td>55500000</td>\n",
       "      <td>5600000</td>\n",
       "      <td>19000000</td>\n",
       "      <td>21500000</td>\n",
       "      <td>24700000</td>\n",
       "      <td>36400000</td>\n",
       "      <td>14800000</td>\n",
       "      <td>38000000</td>\n",
       "      <td>11500000</td>\n",
       "      <td>-17000000</td>\n",
       "      <td>NaN</td>\n",
       "      <td>NaN</td>\n",
       "      <td>NaN</td>\n",
       "      <td>NaN</td>\n",
       "    </tr>\n",
       "    <tr>\n",
       "      <th>2</th>\n",
       "      <td>200 day ADTV</td>\n",
       "      <td>10890000</td>\n",
       "      <td>5740000</td>\n",
       "      <td>7700000</td>\n",
       "      <td>5000000</td>\n",
       "      <td>9030000</td>\n",
       "      <td>3800000</td>\n",
       "      <td>5800000</td>\n",
       "      <td>3500000</td>\n",
       "      <td>5500000</td>\n",
       "      <td>76000000</td>\n",
       "      <td>NaN</td>\n",
       "      <td>NaN</td>\n",
       "      <td>NaN</td>\n",
       "      <td>NaN</td>\n",
       "    </tr>\n",
       "    <tr>\n",
       "      <th>3</th>\n",
       "      <td>Days to trade</td>\n",
       "      <td>5.096419</td>\n",
       "      <td>0.97561</td>\n",
       "      <td>2.467532</td>\n",
       "      <td>4.3</td>\n",
       "      <td>2.735327</td>\n",
       "      <td>9.578947</td>\n",
       "      <td>2.551724</td>\n",
       "      <td>10.857143</td>\n",
       "      <td>2.090909</td>\n",
       "      <td>0.223684</td>\n",
       "      <td>NaN</td>\n",
       "      <td>NaN</td>\n",
       "      <td>NaN</td>\n",
       "      <td>NaN</td>\n",
       "    </tr>\n",
       "    <tr>\n",
       "      <th>4</th>\n",
       "      <td>Date</td>\n",
       "      <td>Close</td>\n",
       "      <td>Close</td>\n",
       "      <td>Close</td>\n",
       "      <td>Close</td>\n",
       "      <td>Close</td>\n",
       "      <td>Close</td>\n",
       "      <td>Close</td>\n",
       "      <td>Close</td>\n",
       "      <td>Close</td>\n",
       "      <td>Close</td>\n",
       "      <td>NaN</td>\n",
       "      <td>NaN</td>\n",
       "      <td>NaN</td>\n",
       "      <td>NaN</td>\n",
       "    </tr>\n",
       "    <tr>\n",
       "      <th>...</th>\n",
       "      <td>...</td>\n",
       "      <td>...</td>\n",
       "      <td>...</td>\n",
       "      <td>...</td>\n",
       "      <td>...</td>\n",
       "      <td>...</td>\n",
       "      <td>...</td>\n",
       "      <td>...</td>\n",
       "      <td>...</td>\n",
       "      <td>...</td>\n",
       "      <td>...</td>\n",
       "      <td>...</td>\n",
       "      <td>...</td>\n",
       "      <td>...</td>\n",
       "      <td>...</td>\n",
       "    </tr>\n",
       "    <tr>\n",
       "      <th>757</th>\n",
       "      <td>2021-12-27 16:00:00</td>\n",
       "      <td>6.34</td>\n",
       "      <td>143.77</td>\n",
       "      <td>8.24</td>\n",
       "      <td>33.29</td>\n",
       "      <td>4.59</td>\n",
       "      <td>33.33</td>\n",
       "      <td>24.36</td>\n",
       "      <td>59.38</td>\n",
       "      <td>1.83</td>\n",
       "      <td>477.26</td>\n",
       "      <td>NaN</td>\n",
       "      <td>NaN</td>\n",
       "      <td>NaN</td>\n",
       "      <td>NaN</td>\n",
       "    </tr>\n",
       "    <tr>\n",
       "      <th>758</th>\n",
       "      <td>2021-12-28 16:00:00</td>\n",
       "      <td>6.31</td>\n",
       "      <td>140.88</td>\n",
       "      <td>7.8</td>\n",
       "      <td>33.32</td>\n",
       "      <td>4.31</td>\n",
       "      <td>33.37</td>\n",
       "      <td>24.33</td>\n",
       "      <td>57.13</td>\n",
       "      <td>1.75</td>\n",
       "      <td>476.87</td>\n",
       "      <td>NaN</td>\n",
       "      <td>NaN</td>\n",
       "      <td>NaN</td>\n",
       "      <td>NaN</td>\n",
       "    </tr>\n",
       "    <tr>\n",
       "      <th>759</th>\n",
       "      <td>2021-12-29 16:00:00</td>\n",
       "      <td>5.97</td>\n",
       "      <td>136.3</td>\n",
       "      <td>7.5</td>\n",
       "      <td>32.92</td>\n",
       "      <td>4.03</td>\n",
       "      <td>33.28</td>\n",
       "      <td>23.87</td>\n",
       "      <td>56.82</td>\n",
       "      <td>1.56</td>\n",
       "      <td>477.48</td>\n",
       "      <td>NaN</td>\n",
       "      <td>NaN</td>\n",
       "      <td>NaN</td>\n",
       "      <td>NaN</td>\n",
       "    </tr>\n",
       "    <tr>\n",
       "      <th>760</th>\n",
       "      <td>2021-12-30 16:00:00</td>\n",
       "      <td>6.85</td>\n",
       "      <td>150.61</td>\n",
       "      <td>8.43</td>\n",
       "      <td>34.01</td>\n",
       "      <td>4.7</td>\n",
       "      <td>34.63</td>\n",
       "      <td>24.45</td>\n",
       "      <td>59.2</td>\n",
       "      <td>1.89</td>\n",
       "      <td>476.16</td>\n",
       "      <td>NaN</td>\n",
       "      <td>NaN</td>\n",
       "      <td>NaN</td>\n",
       "      <td>NaN</td>\n",
       "    </tr>\n",
       "    <tr>\n",
       "      <th>761</th>\n",
       "      <td>2021-12-31 16:00:00</td>\n",
       "      <td>6.85</td>\n",
       "      <td>148.79</td>\n",
       "      <td>8.4</td>\n",
       "      <td>33.43</td>\n",
       "      <td>4.56</td>\n",
       "      <td>33.37</td>\n",
       "      <td>23.54</td>\n",
       "      <td>58.3</td>\n",
       "      <td>1.94</td>\n",
       "      <td>474.96</td>\n",
       "      <td>NaN</td>\n",
       "      <td>NaN</td>\n",
       "      <td>NaN</td>\n",
       "      <td>NaN</td>\n",
       "    </tr>\n",
       "  </tbody>\n",
       "</table>\n",
       "<p>762 rows × 15 columns</p>\n",
       "</div>"
      ],
      "text/plain": [
       "                    Ticker         TME        BIDU       VIPS        FTCH  \\\n",
       "0    Position size Dollars  1427460000  1587376000  709080000  1416420000   \n",
       "1     Position size Shares    55500000     5600000   19000000    21500000   \n",
       "2             200 day ADTV    10890000     5740000    7700000     5000000   \n",
       "3            Days to trade    5.096419     0.97561   2.467532         4.3   \n",
       "4                     Date       Close       Close      Close       Close   \n",
       "..                     ...         ...         ...        ...         ...   \n",
       "757    2021-12-27 16:00:00        6.34      143.77       8.24       33.29   \n",
       "758    2021-12-28 16:00:00        6.31      140.88        7.8       33.32   \n",
       "759    2021-12-29 16:00:00        5.97       136.3        7.5       32.92   \n",
       "760    2021-12-30 16:00:00        6.85      150.61       8.43       34.01   \n",
       "761    2021-12-31 16:00:00        6.85      148.79        8.4       33.43   \n",
       "\n",
       "            IQ        VIAC      DISCA       TCEHY        GOTU          SPY  \\\n",
       "0    625651000  2339064000  784844000  3313600000  1182775000  -6466120000   \n",
       "1     24700000    36400000   14800000    38000000    11500000    -17000000   \n",
       "2      9030000     3800000    5800000     3500000     5500000     76000000   \n",
       "3     2.735327    9.578947   2.551724   10.857143    2.090909     0.223684   \n",
       "4        Close       Close      Close       Close       Close        Close   \n",
       "..         ...         ...        ...         ...         ...          ...   \n",
       "757       4.59       33.33      24.36       59.38        1.83       477.26   \n",
       "758       4.31       33.37      24.33       57.13        1.75       476.87   \n",
       "759       4.03       33.28      23.87       56.82        1.56       477.48   \n",
       "760        4.7       34.63      24.45        59.2        1.89       476.16   \n",
       "761       4.56       33.37      23.54        58.3        1.94       474.96   \n",
       "\n",
       "            Long          Short         Gross           Net  \n",
       "0    1.338627e+10  6.466120e+09  1.985239e+10  6.920150e+09  \n",
       "1             NaN           NaN           NaN           NaN  \n",
       "2             NaN           NaN           NaN           NaN  \n",
       "3             NaN           NaN           NaN           NaN  \n",
       "4             NaN           NaN           NaN           NaN  \n",
       "..            ...           ...           ...           ...  \n",
       "757           NaN           NaN           NaN           NaN  \n",
       "758           NaN           NaN           NaN           NaN  \n",
       "759           NaN           NaN           NaN           NaN  \n",
       "760           NaN           NaN           NaN           NaN  \n",
       "761           NaN           NaN           NaN           NaN  \n",
       "\n",
       "[762 rows x 15 columns]"
      ]
     },
     "execution_count": 184,
     "metadata": {},
     "output_type": "execute_result"
    }
   ],
   "source": [
    "data"
   ]
  },
  {
   "cell_type": "code",
   "execution_count": 185,
   "id": "cf7b448a",
   "metadata": {},
   "outputs": [
    {
     "data": {
      "text/plain": [
       "datetime.datetime(2020, 9, 1, 16, 0)"
      ]
     },
     "execution_count": 185,
     "metadata": {},
     "output_type": "execute_result"
    }
   ],
   "source": [
    "data.iloc[425,0]"
   ]
  },
  {
   "cell_type": "code",
   "execution_count": 186,
   "id": "cac75ec0",
   "metadata": {},
   "outputs": [
    {
     "data": {
      "text/plain": [
       "datetime.datetime(2021, 5, 28, 16, 0)"
      ]
     },
     "execution_count": 186,
     "metadata": {},
     "output_type": "execute_result"
    }
   ],
   "source": [
    "data.iloc[611,0]"
   ]
  },
  {
   "cell_type": "code",
   "execution_count": 187,
   "id": "6f464590",
   "metadata": {},
   "outputs": [],
   "source": [
    "TME_share = data.iloc[1,1]\n",
    "BIDU_share = data.iloc[1,2]\n",
    "VIPS_share = data.iloc[1,3]\n",
    "FTCH_share = data.iloc[1,4]\n",
    "IQ_share = data.iloc[1,5]\n",
    "VIAC_share = data.iloc[1,6]\n",
    "DISCA_share = data.iloc[1,7]\n",
    "TCEHY_share = data.iloc[1,8]\n",
    "GOTU_share = data.iloc[1,9]\n",
    "SPY_share = data.iloc[1,10]"
   ]
  },
  {
   "cell_type": "code",
   "execution_count": 188,
   "id": "883884c2",
   "metadata": {},
   "outputs": [],
   "source": [
    "gross_mkt = data.iloc[425:612,1]*TME_share + data.iloc[425:612,2]*BIDU_share + data.iloc[425:612,3]*VIPS_share + data.iloc[425:612,4]*FTCH_share + data.iloc[425:612,5]*IQ_share + data.iloc[425:612,6]*VIAC_share + data.iloc[425:612,7]*DISCA_share + data.iloc[425:612,8]* TCEHY_share + data.iloc[425:612,9]*GOTU_share + data.iloc[425:612,10]*abs(SPY_share)\n",
    "net_mkt = data.iloc[425:612,1]*TME_share + data.iloc[425:612,2]*BIDU_share + data.iloc[425:612,3]*VIPS_share + data.iloc[425:612,4]*FTCH_share + data.iloc[425:612,5]*IQ_share + data.iloc[425:612,6]*VIAC_share + data.iloc[425:612,7]*DISCA_share + data.iloc[425:612,8]*TCEHY_share + data.iloc[425:612,9]*GOTU_share + data.iloc[425:612,10]*SPY_share"
   ]
  },
  {
   "cell_type": "code",
   "execution_count": 189,
   "id": "a907b3d3",
   "metadata": {},
   "outputs": [
    {
     "data": {
      "image/png": "[encoded data removed]",
      "text/plain": [
       "<Figure size 640x400 with 1 Axes>"
      ]
     },
     "metadata": {
      "needs_background": "light"
     },
     "output_type": "display_data"
    }
   ],
   "source": [
    "figure(figsize=(8, 5), dpi=80)\n",
    "plt.plot(data.iloc[425:612,0],gross_mkt/1000000000)\n",
    "plt.xlabel('Date')\n",
    "plt.ylabel('Gross Market Value (billion)')\n",
    "plt.title('Gross Market Value')\n",
    "plt.grid(axis='y', alpha=0.75)"
   ]
  },
  {
   "cell_type": "code",
   "execution_count": 190,
   "id": "8ad766ba",
   "metadata": {},
   "outputs": [
    {
     "data": {
      "image/png": "[encoded data removed]",
      "text/plain": [
       "<Figure size 640x400 with 1 Axes>"
      ]
     },
     "metadata": {
      "needs_background": "light"
     },
     "output_type": "display_data"
    }
   ],
   "source": [
    "figure(figsize=(8, 5), dpi=80)\n",
    "plt.plot(data.iloc[425:612,0],net_mkt/1000000000)\n",
    "plt.xlabel('Date')\n",
    "plt.ylabel('Net Market Value (billion)')\n",
    "plt.title('Net Market Value')\n",
    "plt.grid(axis='y', alpha=0.75)"
   ]
  },
  {
   "cell_type": "code",
   "execution_count": 191,
   "id": "3c157b3e",
   "metadata": {},
   "outputs": [
    {
     "data": {
      "text/plain": [
       "1389667300.0000002"
      ]
     },
     "execution_count": 191,
     "metadata": {},
     "output_type": "execute_result"
    }
   ],
   "source": [
    "initial = gross_mkt[547]*0.07\n",
    "initial"
   ]
  },
  {
   "cell_type": "markdown",
   "id": "c3a2c83d",
   "metadata": {},
   "source": [
    "## 1 day"
   ]
  },
  {
   "cell_type": "code",
   "execution_count": 204,
   "id": "0efa7258",
   "metadata": {},
   "outputs": [],
   "source": [
    "last301_TME = data.iloc[-301:,1]\n",
    "last301_TME = last301_TME.to_numpy()\n",
    "\n",
    "last301_BIDU = data.iloc[-301:,2]\n",
    "last301_BIDU = last301_BIDU.to_numpy()\n",
    "\n",
    "last301_VIPS = data.iloc[-301:,3]\n",
    "last301_VIPS = last301_VIPS.to_numpy()\n",
    "\n",
    "last301_FTCH = data.iloc[-301:,4]\n",
    "last301_FTCH = last301_FTCH.to_numpy()\n",
    "\n",
    "last301_IQ = data.iloc[-301:,5]\n",
    "last301_IQ = last301_IQ.to_numpy()\n",
    "\n",
    "last301_VIAC = data.iloc[-301:,6]\n",
    "last301_VIAC = last301_VIAC.to_numpy()\n",
    "\n",
    "last301_DISCA = data.iloc[-301:,7]\n",
    "last301_DISCA = last301_DISCA.to_numpy()\n",
    "\n",
    "last301_TCEHY = data.iloc[-301:,8]\n",
    "last301_TCEHY = last301_TCEHY.to_numpy()\n",
    "\n",
    "last301_GOTU = data.iloc[-301:,9]\n",
    "last301_GOTU = last301_GOTU.to_numpy()\n",
    "\n",
    "last301_SPY = data.iloc[-301:,10]\n",
    "last301_SPY = last301_SPY.to_numpy()"
   ]
  },
  {
   "cell_type": "code",
   "execution_count": 205,
   "id": "2cc4ada0",
   "metadata": {},
   "outputs": [],
   "source": [
    "TME_return = data.iloc[0,1]*(last301_TME[1:]-last301_TME[:-1])/last301_TME[:-1]\n",
    "BIDU_return = data.iloc[0,2]*(last301_BIDU[1:]-last301_BIDU[:-1])/last301_BIDU[:-1]\n",
    "VIPS_return = data.iloc[0,3]*(last301_VIPS[1:]-last301_VIPS[:-1])/last301_VIPS[:-1]\n",
    "FTCH_return = data.iloc[0,4]*(last301_FTCH[1:]-last301_FTCH[:-1])/last301_FTCH[:-1]\n",
    "IQ_return = data.iloc[0,5]*(last301_IQ[1:]-last301_IQ[:-1])/last301_IQ[:-1]\n",
    "VIAC_return = data.iloc[0,6]*(last301_VIAC[1:]-last301_VIAC[:-1])/last301_VIAC[:-1]\n",
    "DISCA_return = data.iloc[0,7]*(last301_DISCA[1:]-last301_DISCA[:-1])/last301_DISCA[:-1]\n",
    "TCEHY_return = data.iloc[0,8]*(last301_TCEHY[1:]-last301_TCEHY[:-1])/last301_TCEHY[:-1]\n",
    "GOTU_return = data.iloc[0,9]*(last301_GOTU[1:]-last301_GOTU[:-1])/last301_GOTU[:-1]\n",
    "SPY_return = data.iloc[0,10]*(last301_SPY[1:]-last301_SPY[:-1])/last301_SPY[:-1]"
   ]
  },
  {
   "cell_type": "code",
   "execution_count": 206,
   "id": "f6109f70",
   "metadata": {},
   "outputs": [],
   "source": [
    "oneday_return = TME_return + BIDU_return + VIPS_return + FTCH_return + IQ_return +  VIAC_return + DISCA_return + TCEHY_return + GOTU_return + SPY_return\n"
   ]
  },
  {
   "cell_type": "code",
   "execution_count": 207,
   "id": "d571282c",
   "metadata": {},
   "outputs": [],
   "source": [
    "last300day = pd.DataFrame(data.iloc[-300:,0])\n",
    "last300day = last300day.reset_index(drop=True)"
   ]
  },
  {
   "cell_type": "code",
   "execution_count": 208,
   "id": "1a1f7310",
   "metadata": {},
   "outputs": [
    {
     "data": {
      "text/html": [
       "<div>\n",
       "<style scoped>\n",
       "    .dataframe tbody tr th:only-of-type {\n",
       "        vertical-align: middle;\n",
       "    }\n",
       "\n",
       "    .dataframe tbody tr th {\n",
       "        vertical-align: top;\n",
       "    }\n",
       "\n",
       "    .dataframe thead th {\n",
       "        text-align: right;\n",
       "    }\n",
       "</style>\n",
       "<table border=\"1\" class=\"dataframe\">\n",
       "  <thead>\n",
       "    <tr style=\"text-align: right;\">\n",
       "      <th></th>\n",
       "      <th>return</th>\n",
       "      <th>Ticker</th>\n",
       "    </tr>\n",
       "  </thead>\n",
       "  <tbody>\n",
       "    <tr>\n",
       "      <th>0</th>\n",
       "      <td>103482610.954675</td>\n",
       "      <td>2020-10-23 16:00:00</td>\n",
       "    </tr>\n",
       "    <tr>\n",
       "      <th>1</th>\n",
       "      <td>4065040.996994</td>\n",
       "      <td>2020-10-26 16:00:00</td>\n",
       "    </tr>\n",
       "    <tr>\n",
       "      <th>2</th>\n",
       "      <td>252025167.302803</td>\n",
       "      <td>2020-10-27 16:00:00</td>\n",
       "    </tr>\n",
       "    <tr>\n",
       "      <th>3</th>\n",
       "      <td>768354.823986</td>\n",
       "      <td>2020-10-28 16:00:00</td>\n",
       "    </tr>\n",
       "    <tr>\n",
       "      <th>4</th>\n",
       "      <td>199840392.123772</td>\n",
       "      <td>2020-10-29 16:00:00</td>\n",
       "    </tr>\n",
       "    <tr>\n",
       "      <th>...</th>\n",
       "      <td>...</td>\n",
       "      <td>...</td>\n",
       "    </tr>\n",
       "    <tr>\n",
       "      <th>295</th>\n",
       "      <td>-351525629.203248</td>\n",
       "      <td>2021-12-27 16:00:00</td>\n",
       "    </tr>\n",
       "    <tr>\n",
       "      <th>296</th>\n",
       "      <td>-283555346.330054</td>\n",
       "      <td>2021-12-28 16:00:00</td>\n",
       "    </tr>\n",
       "    <tr>\n",
       "      <th>297</th>\n",
       "      <td>-389257156.948483</td>\n",
       "      <td>2021-12-29 16:00:00</td>\n",
       "    </tr>\n",
       "    <tr>\n",
       "      <th>298</th>\n",
       "      <td>1136738673.343669</td>\n",
       "      <td>2021-12-30 16:00:00</td>\n",
       "    </tr>\n",
       "    <tr>\n",
       "      <th>299</th>\n",
       "      <td>-181603963.324024</td>\n",
       "      <td>2021-12-31 16:00:00</td>\n",
       "    </tr>\n",
       "  </tbody>\n",
       "</table>\n",
       "<p>300 rows × 2 columns</p>\n",
       "</div>"
      ],
      "text/plain": [
       "                return               Ticker\n",
       "0     103482610.954675  2020-10-23 16:00:00\n",
       "1       4065040.996994  2020-10-26 16:00:00\n",
       "2     252025167.302803  2020-10-27 16:00:00\n",
       "3        768354.823986  2020-10-28 16:00:00\n",
       "4     199840392.123772  2020-10-29 16:00:00\n",
       "..                 ...                  ...\n",
       "295  -351525629.203248  2021-12-27 16:00:00\n",
       "296  -283555346.330054  2021-12-28 16:00:00\n",
       "297  -389257156.948483  2021-12-29 16:00:00\n",
       "298  1136738673.343669  2021-12-30 16:00:00\n",
       "299  -181603963.324024  2021-12-31 16:00:00\n",
       "\n",
       "[300 rows x 2 columns]"
      ]
     },
     "execution_count": 208,
     "metadata": {},
     "output_type": "execute_result"
    }
   ],
   "source": [
    "last300day.insert(0,'return',pd.DataFrame(oneday_return))\n",
    "last300day"
   ]
  },
  {
   "cell_type": "code",
   "execution_count": 243,
   "id": "512643f4",
   "metadata": {},
   "outputs": [
    {
     "data": {
      "image/png": "[encoded data removed]",
      "text/plain": [
       "<Figure size 432x288 with 1 Axes>"
      ]
     },
     "metadata": {
      "needs_background": "light"
     },
     "output_type": "display_data"
    }
   ],
   "source": [
    "plt.hist(oneday_return,bins=50,alpha=0.7, rwidth=0.85)\n",
    "plt.xlabel('Returns')\n",
    "plt.ylabel('Frequency')\n",
    "plt.title('Histogram of Last 300 1-day Returns')\n",
    "plt.grid(axis='y', alpha=0.75)"
   ]
  },
  {
   "cell_type": "code",
   "execution_count": 210,
   "id": "cc385da8",
   "metadata": {},
   "outputs": [
    {
     "data": {
      "text/html": [
       "<div>\n",
       "<style scoped>\n",
       "    .dataframe tbody tr th:only-of-type {\n",
       "        vertical-align: middle;\n",
       "    }\n",
       "\n",
       "    .dataframe tbody tr th {\n",
       "        vertical-align: top;\n",
       "    }\n",
       "\n",
       "    .dataframe thead th {\n",
       "        text-align: right;\n",
       "    }\n",
       "</style>\n",
       "<table border=\"1\" class=\"dataframe\">\n",
       "  <thead>\n",
       "    <tr style=\"text-align: right;\">\n",
       "      <th></th>\n",
       "      <th>return</th>\n",
       "      <th>Ticker</th>\n",
       "    </tr>\n",
       "  </thead>\n",
       "  <tbody>\n",
       "    <tr>\n",
       "      <th>103</th>\n",
       "      <td>-1757963458.051323</td>\n",
       "      <td>2021-03-24 16:00:00</td>\n",
       "    </tr>\n",
       "    <tr>\n",
       "      <th>105</th>\n",
       "      <td>-1367791047.126448</td>\n",
       "      <td>2021-03-26 16:00:00</td>\n",
       "    </tr>\n",
       "    <tr>\n",
       "      <th>187</th>\n",
       "      <td>-1168253618.391542</td>\n",
       "      <td>2021-07-23 16:00:00</td>\n",
       "    </tr>\n",
       "    <tr>\n",
       "      <th>104</th>\n",
       "      <td>-857026555.140768</td>\n",
       "      <td>2021-03-25 16:00:00</td>\n",
       "    </tr>\n",
       "    <tr>\n",
       "      <th>206</th>\n",
       "      <td>-840898949.816342</td>\n",
       "      <td>2021-08-19 16:00:00</td>\n",
       "    </tr>\n",
       "    <tr>\n",
       "      <th>188</th>\n",
       "      <td>-760163564.368054</td>\n",
       "      <td>2021-07-26 16:00:00</td>\n",
       "    </tr>\n",
       "  </tbody>\n",
       "</table>\n",
       "</div>"
      ],
      "text/plain": [
       "                return               Ticker\n",
       "103 -1757963458.051323  2021-03-24 16:00:00\n",
       "105 -1367791047.126448  2021-03-26 16:00:00\n",
       "187 -1168253618.391542  2021-07-23 16:00:00\n",
       "104  -857026555.140768  2021-03-25 16:00:00\n",
       "206  -840898949.816342  2021-08-19 16:00:00\n",
       "188  -760163564.368054  2021-07-26 16:00:00"
      ]
     },
     "execution_count": 210,
     "metadata": {},
     "output_type": "execute_result"
    }
   ],
   "source": [
    "# tail amounts\n",
    "last300day.sort_values(by=['return']).iloc[:6,:]"
   ]
  },
  {
   "cell_type": "code",
   "execution_count": 211,
   "id": "0d4dc8ae",
   "metadata": {},
   "outputs": [
    {
     "data": {
      "text/plain": [
       "array([-1757963458.0513234, -1367791047.1264484, -1168253618.3915417,\n",
       "       -857026555.1407676, -840898949.8163422, -760163564.3680543],\n",
       "      dtype=object)"
      ]
     },
     "execution_count": 211,
     "metadata": {},
     "output_type": "execute_result"
    }
   ],
   "source": [
    "oneday_return.sort()\n",
    "tail = oneday_return[:6]\n",
    "tail"
   ]
  },
  {
   "cell_type": "code",
   "execution_count": 212,
   "id": "f3f2464c",
   "metadata": {
    "scrolled": true
   },
   "outputs": [
    {
     "data": {
      "text/plain": [
       "-1125349532.1490796"
      ]
     },
     "execution_count": 212,
     "metadata": {},
     "output_type": "execute_result"
    }
   ],
   "source": [
    "# 98% confidence cVaR\n",
    "oneday_cVaR = np.mean(oneday_return[:6])\n",
    "oneday_cVaR"
   ]
  },
  {
   "cell_type": "code",
   "execution_count": 213,
   "id": "cbd30a37",
   "metadata": {},
   "outputs": [
    {
     "data": {
      "text/plain": [
       "array([-3147630758.051324, -2757458347.1264486, -2557920918.391542,\n",
       "       -2246693855.140768, -2230566249.8163424, -2149830864.3680544],\n",
       "      dtype=object)"
      ]
     },
     "execution_count": 213,
     "metadata": {},
     "output_type": "execute_result"
    }
   ],
   "source": [
    "# loss beyond margin\n",
    "oneday_return[:6] - initial"
   ]
  },
  {
   "cell_type": "code",
   "execution_count": 214,
   "id": "0a683111",
   "metadata": {},
   "outputs": [
    {
     "data": {
      "text/plain": [
       "61382693.00855386"
      ]
     },
     "execution_count": 214,
     "metadata": {},
     "output_type": "execute_result"
    }
   ],
   "source": [
    "# Potential Exposure(98%)\n",
    "PE = np.mean(np.fmax(abs(tail)-initial,0))\n",
    "PE"
   ]
  },
  {
   "cell_type": "markdown",
   "id": "d66efd79",
   "metadata": {},
   "source": [
    "## 10 day"
   ]
  },
  {
   "cell_type": "code",
   "execution_count": 216,
   "id": "84ce0fd9",
   "metadata": {},
   "outputs": [],
   "source": [
    "last310_TME = data.iloc[-310:,1]\n",
    "last310_TME = last310_TME.to_numpy()\n",
    "\n",
    "last310_BIDU = data.iloc[-310:,2]\n",
    "last310_BIDU = last310_BIDU.to_numpy()\n",
    "\n",
    "last310_VIPS = data.iloc[-310:,3]\n",
    "last310_VIPS = last310_VIPS.to_numpy()\n",
    "\n",
    "last310_FTCH = data.iloc[-310:,4]\n",
    "last310_FTCH = last310_FTCH.to_numpy()\n",
    "\n",
    "last310_IQ = data.iloc[-310:,5]\n",
    "last310_IQ = last310_IQ.to_numpy()\n",
    "\n",
    "last310_VIAC = data.iloc[-310:,6]\n",
    "last310_VIAC = last310_VIAC.to_numpy()\n",
    "\n",
    "last310_DISCA = data.iloc[-310:,7]\n",
    "last310_DISCA = last310_DISCA.to_numpy()\n",
    "\n",
    "last310_TCEHY = data.iloc[-310:,8]\n",
    "last310_TCEHY = last310_TCEHY.to_numpy()\n",
    "\n",
    "last310_GOTU = data.iloc[-310:,9]\n",
    "last310_GOTU = last310_GOTU.to_numpy()\n",
    "\n",
    "last310_SPY = data.iloc[-310:,10]\n",
    "last310_SPY = last310_SPY.to_numpy()"
   ]
  },
  {
   "cell_type": "code",
   "execution_count": 217,
   "id": "d9b6f959",
   "metadata": {},
   "outputs": [],
   "source": [
    "TME_return = data.iloc[0,1]*(last310_TME[10:]-last310_TME[:-10])/last310_TME[:-10]\n",
    "BIDU_return = data.iloc[0,2]*(last310_BIDU[10:]-last310_BIDU[:-10])/last310_BIDU[:-10]\n",
    "VIPS_return = data.iloc[0,3]*(last310_VIPS[10:]-last310_VIPS[:-10])/last310_VIPS[:-10]\n",
    "FTCH_return = data.iloc[0,4]*(last310_FTCH[10:]-last310_FTCH[:-10])/last310_FTCH[:-10]\n",
    "IQ_return = data.iloc[0,5]*(last310_IQ[10:]-last310_IQ[:-10])/last310_IQ[:-10]\n",
    "VIAC_return = data.iloc[0,6]*(last310_VIAC[10:]-last310_VIAC[:-10])/last310_VIAC[:-10]\n",
    "DISCA_return = data.iloc[0,7]*(last310_DISCA[10:]-last310_DISCA[:-10])/last310_DISCA[:-10]\n",
    "TCEHY_return = data.iloc[0,8]*(last310_TCEHY[10:]-last310_TCEHY[:-10])/last310_TCEHY[:-10]\n",
    "GOTU_return = data.iloc[0,9]*(last310_GOTU[10:]-last310_GOTU[:-10])/last310_GOTU[:-10]\n",
    "SPY_return = data.iloc[0,10]*(last310_SPY[10:]-last310_SPY[:-10])/last310_SPY[:-10]"
   ]
  },
  {
   "cell_type": "code",
   "execution_count": 218,
   "id": "f0cb8d23",
   "metadata": {},
   "outputs": [],
   "source": [
    "tenday_return = TME_return + BIDU_return + VIPS_return + FTCH_return + IQ_return +  VIAC_return + DISCA_return + TCEHY_return + GOTU_return + SPY_return\n"
   ]
  },
  {
   "cell_type": "code",
   "execution_count": 219,
   "id": "11ce38f4",
   "metadata": {},
   "outputs": [],
   "source": [
    "last300day = pd.DataFrame(data.iloc[-300:,0])\n",
    "last300day = last300day.reset_index(drop=True)"
   ]
  },
  {
   "cell_type": "code",
   "execution_count": 220,
   "id": "b1fa1d87",
   "metadata": {},
   "outputs": [
    {
     "data": {
      "text/html": [
       "<div>\n",
       "<style scoped>\n",
       "    .dataframe tbody tr th:only-of-type {\n",
       "        vertical-align: middle;\n",
       "    }\n",
       "\n",
       "    .dataframe tbody tr th {\n",
       "        vertical-align: top;\n",
       "    }\n",
       "\n",
       "    .dataframe thead th {\n",
       "        text-align: right;\n",
       "    }\n",
       "</style>\n",
       "<table border=\"1\" class=\"dataframe\">\n",
       "  <thead>\n",
       "    <tr style=\"text-align: right;\">\n",
       "      <th></th>\n",
       "      <th>return</th>\n",
       "      <th>Ticker</th>\n",
       "    </tr>\n",
       "  </thead>\n",
       "  <tbody>\n",
       "    <tr>\n",
       "      <th>0</th>\n",
       "      <td>30294564.841229</td>\n",
       "      <td>2020-10-23 16:00:00</td>\n",
       "    </tr>\n",
       "    <tr>\n",
       "      <th>1</th>\n",
       "      <td>18197902.219482</td>\n",
       "      <td>2020-10-26 16:00:00</td>\n",
       "    </tr>\n",
       "    <tr>\n",
       "      <th>2</th>\n",
       "      <td>239601525.828784</td>\n",
       "      <td>2020-10-27 16:00:00</td>\n",
       "    </tr>\n",
       "    <tr>\n",
       "      <th>3</th>\n",
       "      <td>208459675.254387</td>\n",
       "      <td>2020-10-28 16:00:00</td>\n",
       "    </tr>\n",
       "    <tr>\n",
       "      <th>4</th>\n",
       "      <td>473034251.559412</td>\n",
       "      <td>2020-10-29 16:00:00</td>\n",
       "    </tr>\n",
       "    <tr>\n",
       "      <th>...</th>\n",
       "      <td>...</td>\n",
       "      <td>...</td>\n",
       "    </tr>\n",
       "    <tr>\n",
       "      <th>295</th>\n",
       "      <td>-787510686.987922</td>\n",
       "      <td>2021-12-27 16:00:00</td>\n",
       "    </tr>\n",
       "    <tr>\n",
       "      <th>296</th>\n",
       "      <td>-602947265.748937</td>\n",
       "      <td>2021-12-28 16:00:00</td>\n",
       "    </tr>\n",
       "    <tr>\n",
       "      <th>297</th>\n",
       "      <td>-842745774.106545</td>\n",
       "      <td>2021-12-29 16:00:00</td>\n",
       "    </tr>\n",
       "    <tr>\n",
       "      <th>298</th>\n",
       "      <td>439664283.894369</td>\n",
       "      <td>2021-12-30 16:00:00</td>\n",
       "    </tr>\n",
       "    <tr>\n",
       "      <th>299</th>\n",
       "      <td>333384418.668736</td>\n",
       "      <td>2021-12-31 16:00:00</td>\n",
       "    </tr>\n",
       "  </tbody>\n",
       "</table>\n",
       "<p>300 rows × 2 columns</p>\n",
       "</div>"
      ],
      "text/plain": [
       "               return               Ticker\n",
       "0     30294564.841229  2020-10-23 16:00:00\n",
       "1     18197902.219482  2020-10-26 16:00:00\n",
       "2    239601525.828784  2020-10-27 16:00:00\n",
       "3    208459675.254387  2020-10-28 16:00:00\n",
       "4    473034251.559412  2020-10-29 16:00:00\n",
       "..                ...                  ...\n",
       "295 -787510686.987922  2021-12-27 16:00:00\n",
       "296 -602947265.748937  2021-12-28 16:00:00\n",
       "297 -842745774.106545  2021-12-29 16:00:00\n",
       "298  439664283.894369  2021-12-30 16:00:00\n",
       "299  333384418.668736  2021-12-31 16:00:00\n",
       "\n",
       "[300 rows x 2 columns]"
      ]
     },
     "execution_count": 220,
     "metadata": {},
     "output_type": "execute_result"
    }
   ],
   "source": [
    "last300day.insert(0,'return',pd.DataFrame(tenday_return))\n",
    "last300day"
   ]
  },
  {
   "cell_type": "code",
   "execution_count": 221,
   "id": "681926d9",
   "metadata": {
    "scrolled": true
   },
   "outputs": [
    {
     "data": {
      "text/html": [
       "<div>\n",
       "<style scoped>\n",
       "    .dataframe tbody tr th:only-of-type {\n",
       "        vertical-align: middle;\n",
       "    }\n",
       "\n",
       "    .dataframe tbody tr th {\n",
       "        vertical-align: top;\n",
       "    }\n",
       "\n",
       "    .dataframe thead th {\n",
       "        text-align: right;\n",
       "    }\n",
       "</style>\n",
       "<table border=\"1\" class=\"dataframe\">\n",
       "  <thead>\n",
       "    <tr style=\"text-align: right;\">\n",
       "      <th></th>\n",
       "      <th>return</th>\n",
       "      <th>Ticker</th>\n",
       "    </tr>\n",
       "  </thead>\n",
       "  <tbody>\n",
       "    <tr>\n",
       "      <th>110</th>\n",
       "      <td>-4097500659.587368</td>\n",
       "      <td>2021-04-05 16:00:00</td>\n",
       "    </tr>\n",
       "    <tr>\n",
       "      <th>112</th>\n",
       "      <td>-3993228903.661682</td>\n",
       "      <td>2021-04-07 16:00:00</td>\n",
       "    </tr>\n",
       "    <tr>\n",
       "      <th>106</th>\n",
       "      <td>-3836213901.375468</td>\n",
       "      <td>2021-03-29 16:00:00</td>\n",
       "    </tr>\n",
       "    <tr>\n",
       "      <th>111</th>\n",
       "      <td>-3824305728.871734</td>\n",
       "      <td>2021-04-06 16:00:00</td>\n",
       "    </tr>\n",
       "    <tr>\n",
       "      <th>109</th>\n",
       "      <td>-3631759983.873731</td>\n",
       "      <td>2021-04-01 16:00:00</td>\n",
       "    </tr>\n",
       "    <tr>\n",
       "      <th>108</th>\n",
       "      <td>-3608866272.890559</td>\n",
       "      <td>2021-03-31 16:00:00</td>\n",
       "    </tr>\n",
       "  </tbody>\n",
       "</table>\n",
       "</div>"
      ],
      "text/plain": [
       "                return               Ticker\n",
       "110 -4097500659.587368  2021-04-05 16:00:00\n",
       "112 -3993228903.661682  2021-04-07 16:00:00\n",
       "106 -3836213901.375468  2021-03-29 16:00:00\n",
       "111 -3824305728.871734  2021-04-06 16:00:00\n",
       "109 -3631759983.873731  2021-04-01 16:00:00\n",
       "108 -3608866272.890559  2021-03-31 16:00:00"
      ]
     },
     "execution_count": 221,
     "metadata": {},
     "output_type": "execute_result"
    }
   ],
   "source": [
    "# tail amounts\n",
    "last300day.sort_values(by=['return']).iloc[:6,:]"
   ]
  },
  {
   "cell_type": "code",
   "execution_count": 222,
   "id": "9d342f2e",
   "metadata": {},
   "outputs": [
    {
     "data": {
      "text/plain": [
       "array([-4097500659.5873675, -3993228903.6616817, -3836213901.3754683,\n",
       "       -3824305728.871734, -3631759983.873731, -3608866272.8905587],\n",
       "      dtype=object)"
      ]
     },
     "execution_count": 222,
     "metadata": {},
     "output_type": "execute_result"
    }
   ],
   "source": [
    "tenday_return.sort()\n",
    "tail = tenday_return[:6]\n",
    "tail"
   ]
  },
  {
   "cell_type": "code",
   "execution_count": 223,
   "id": "a672dd48",
   "metadata": {
    "scrolled": true
   },
   "outputs": [
    {
     "data": {
      "text/plain": [
       "-3831979241.7100906"
      ]
     },
     "execution_count": 223,
     "metadata": {},
     "output_type": "execute_result"
    }
   ],
   "source": [
    "# 98% confidence cVaR\n",
    "tenday_cVaR = np.mean(tenday_return[:6])\n",
    "tenday_cVaR"
   ]
  },
  {
   "cell_type": "code",
   "execution_count": 224,
   "id": "e5bdceb3",
   "metadata": {},
   "outputs": [
    {
     "data": {
      "text/plain": [
       "array([-5487167959.587368, -5382896203.661682, -5225881201.375468,\n",
       "       -5213973028.871735, -5021427283.873732, -4998533572.890559],\n",
       "      dtype=object)"
      ]
     },
     "execution_count": 224,
     "metadata": {},
     "output_type": "execute_result"
    }
   ],
   "source": [
    "# loss beyond margin\n",
    "tenday_return[:6] - initial"
   ]
  },
  {
   "cell_type": "code",
   "execution_count": 225,
   "id": "08f218d2",
   "metadata": {},
   "outputs": [
    {
     "data": {
      "text/plain": [
       "2442311941.7100897"
      ]
     },
     "execution_count": 225,
     "metadata": {},
     "output_type": "execute_result"
    }
   ],
   "source": [
    "# Potential Exposure(98%)\n",
    "PE = np.mean(np.fmax(abs(tail)-initial,0))\n",
    "PE"
   ]
  },
  {
   "cell_type": "code",
   "execution_count": 242,
   "id": "89af2ae2",
   "metadata": {},
   "outputs": [
    {
     "data": {
      "image/png": "[encoded data removed]",
      "text/plain": [
       "<Figure size 432x288 with 1 Axes>"
      ]
     },
     "metadata": {
      "needs_background": "light"
     },
     "output_type": "display_data"
    }
   ],
   "source": [
    "plt.hist(tenday_return,bins=50,alpha=0.7, rwidth=0.85)\n",
    "plt.xlabel('Returns')\n",
    "plt.ylabel('Frequency')\n",
    "plt.title('Histogram of Last 300 10-day Returns')\n",
    "plt.grid(axis='y', alpha=0.75)\n"
   ]
  },
  {
   "cell_type": "markdown",
   "id": "f97f7e9e",
   "metadata": {},
   "source": [
    "## Antithetic"
   ]
  },
  {
   "cell_type": "code",
   "execution_count": 227,
   "id": "ca2d18d1",
   "metadata": {},
   "outputs": [],
   "source": [
    "TME_return = data.iloc[0,1]*(last310_TME[:-10]-last310_TME[10:])/last310_TME[10:]\n",
    "BIDU_return = data.iloc[0,2]*(last310_BIDU[:-10]-last310_BIDU[10:])/last310_BIDU[10:]\n",
    "VIPS_return = data.iloc[0,3]*(last310_VIPS[:-10]-last310_VIPS[10:])/last310_VIPS[10:]\n",
    "FTCH_return = data.iloc[0,4]*(last310_FTCH[:-10:]-last310_FTCH[10:])/last310_FTCH[10:]\n",
    "IQ_return = data.iloc[0,5]*(last310_IQ[:-10]-last310_IQ[10:])/last310_IQ[10:]\n",
    "VIAC_return = data.iloc[0,6]*(last310_VIAC[:-10]-last310_VIAC[10:])/last310_VIAC[10:]\n",
    "DISCA_return = data.iloc[0,7]*(last310_DISCA[:-10]-last310_DISCA[10:])/last310_DISCA[10:]\n",
    "TCEHY_return = data.iloc[0,8]*(last310_TCEHY[:-10]-last310_TCEHY[10:])/last310_TCEHY[10:]\n",
    "GOTU_return = data.iloc[0,9]*(last310_GOTU[:-10]-last310_GOTU[10:])/last310_GOTU[10:]\n",
    "SPY_return = data.iloc[0,10]*(last310_SPY[:-10]-last310_SPY[10:])/last310_SPY[10:]"
   ]
  },
  {
   "cell_type": "code",
   "execution_count": 228,
   "id": "de1f9c2e",
   "metadata": {},
   "outputs": [],
   "source": [
    "an_return = TME_return + BIDU_return + VIPS_return + FTCH_return + IQ_return +  VIAC_return + DISCA_return + TCEHY_return + GOTU_return + SPY_return\n"
   ]
  },
  {
   "cell_type": "code",
   "execution_count": 229,
   "id": "7bc32293",
   "metadata": {},
   "outputs": [],
   "source": [
    "last300day = pd.DataFrame(data.iloc[-300:,0])\n",
    "last300day = last300day.reset_index(drop=True)"
   ]
  },
  {
   "cell_type": "code",
   "execution_count": 230,
   "id": "9cd13232",
   "metadata": {},
   "outputs": [
    {
     "data": {
      "text/html": [
       "<div>\n",
       "<style scoped>\n",
       "    .dataframe tbody tr th:only-of-type {\n",
       "        vertical-align: middle;\n",
       "    }\n",
       "\n",
       "    .dataframe tbody tr th {\n",
       "        vertical-align: top;\n",
       "    }\n",
       "\n",
       "    .dataframe thead th {\n",
       "        text-align: right;\n",
       "    }\n",
       "</style>\n",
       "<table border=\"1\" class=\"dataframe\">\n",
       "  <thead>\n",
       "    <tr style=\"text-align: right;\">\n",
       "      <th></th>\n",
       "      <th>return</th>\n",
       "      <th>Ticker</th>\n",
       "    </tr>\n",
       "  </thead>\n",
       "  <tbody>\n",
       "    <tr>\n",
       "      <th>0</th>\n",
       "      <td>374001172.560911</td>\n",
       "      <td>2020-10-23 16:00:00</td>\n",
       "    </tr>\n",
       "    <tr>\n",
       "      <th>1</th>\n",
       "      <td>343810650.619706</td>\n",
       "      <td>2020-10-26 16:00:00</td>\n",
       "    </tr>\n",
       "    <tr>\n",
       "      <th>2</th>\n",
       "      <td>120582666.281189</td>\n",
       "      <td>2020-10-27 16:00:00</td>\n",
       "    </tr>\n",
       "    <tr>\n",
       "      <th>3</th>\n",
       "      <td>81873641.29379</td>\n",
       "      <td>2020-10-28 16:00:00</td>\n",
       "    </tr>\n",
       "    <tr>\n",
       "      <th>4</th>\n",
       "      <td>-186159614.082331</td>\n",
       "      <td>2020-10-29 16:00:00</td>\n",
       "    </tr>\n",
       "    <tr>\n",
       "      <th>...</th>\n",
       "      <td>...</td>\n",
       "      <td>...</td>\n",
       "    </tr>\n",
       "    <tr>\n",
       "      <th>295</th>\n",
       "      <td>941112670.396645</td>\n",
       "      <td>2021-12-27 16:00:00</td>\n",
       "    </tr>\n",
       "    <tr>\n",
       "      <th>296</th>\n",
       "      <td>709946815.94055</td>\n",
       "      <td>2021-12-28 16:00:00</td>\n",
       "    </tr>\n",
       "    <tr>\n",
       "      <th>297</th>\n",
       "      <td>1125751738.255659</td>\n",
       "      <td>2021-12-29 16:00:00</td>\n",
       "    </tr>\n",
       "    <tr>\n",
       "      <th>298</th>\n",
       "      <td>-378392927.367148</td>\n",
       "      <td>2021-12-30 16:00:00</td>\n",
       "    </tr>\n",
       "    <tr>\n",
       "      <th>299</th>\n",
       "      <td>-295592202.446038</td>\n",
       "      <td>2021-12-31 16:00:00</td>\n",
       "    </tr>\n",
       "  </tbody>\n",
       "</table>\n",
       "<p>300 rows × 2 columns</p>\n",
       "</div>"
      ],
      "text/plain": [
       "                return               Ticker\n",
       "0     374001172.560911  2020-10-23 16:00:00\n",
       "1     343810650.619706  2020-10-26 16:00:00\n",
       "2     120582666.281189  2020-10-27 16:00:00\n",
       "3       81873641.29379  2020-10-28 16:00:00\n",
       "4    -186159614.082331  2020-10-29 16:00:00\n",
       "..                 ...                  ...\n",
       "295   941112670.396645  2021-12-27 16:00:00\n",
       "296    709946815.94055  2021-12-28 16:00:00\n",
       "297  1125751738.255659  2021-12-29 16:00:00\n",
       "298  -378392927.367148  2021-12-30 16:00:00\n",
       "299  -295592202.446038  2021-12-31 16:00:00\n",
       "\n",
       "[300 rows x 2 columns]"
      ]
     },
     "execution_count": 230,
     "metadata": {},
     "output_type": "execute_result"
    }
   ],
   "source": [
    "last300day.insert(0,'return',pd.DataFrame(an_return))\n",
    "last300day"
   ]
  },
  {
   "cell_type": "code",
   "execution_count": 231,
   "id": "b724e26b",
   "metadata": {
    "scrolled": true
   },
   "outputs": [
    {
     "data": {
      "text/html": [
       "<div>\n",
       "<style scoped>\n",
       "    .dataframe tbody tr th:only-of-type {\n",
       "        vertical-align: middle;\n",
       "    }\n",
       "\n",
       "    .dataframe tbody tr th {\n",
       "        vertical-align: top;\n",
       "    }\n",
       "\n",
       "    .dataframe thead th {\n",
       "        text-align: right;\n",
       "    }\n",
       "</style>\n",
       "<table border=\"1\" class=\"dataframe\">\n",
       "  <thead>\n",
       "    <tr style=\"text-align: right;\">\n",
       "      <th></th>\n",
       "      <th>return</th>\n",
       "      <th>Ticker</th>\n",
       "    </tr>\n",
       "  </thead>\n",
       "  <tbody>\n",
       "    <tr>\n",
       "      <th>63</th>\n",
       "      <td>-2214829276.486845</td>\n",
       "      <td>2021-01-26 16:00:00</td>\n",
       "    </tr>\n",
       "    <tr>\n",
       "      <th>61</th>\n",
       "      <td>-2212006619.768887</td>\n",
       "      <td>2021-01-22 16:00:00</td>\n",
       "    </tr>\n",
       "    <tr>\n",
       "      <th>64</th>\n",
       "      <td>-2210302387.224001</td>\n",
       "      <td>2021-01-27 16:00:00</td>\n",
       "    </tr>\n",
       "    <tr>\n",
       "      <th>62</th>\n",
       "      <td>-2063498883.143603</td>\n",
       "      <td>2021-01-25 16:00:00</td>\n",
       "    </tr>\n",
       "    <tr>\n",
       "      <th>60</th>\n",
       "      <td>-1876402160.235008</td>\n",
       "      <td>2021-01-21 16:00:00</td>\n",
       "    </tr>\n",
       "    <tr>\n",
       "      <th>65</th>\n",
       "      <td>-1829942215.359455</td>\n",
       "      <td>2021-01-28 16:00:00</td>\n",
       "    </tr>\n",
       "  </tbody>\n",
       "</table>\n",
       "</div>"
      ],
      "text/plain": [
       "               return               Ticker\n",
       "63 -2214829276.486845  2021-01-26 16:00:00\n",
       "61 -2212006619.768887  2021-01-22 16:00:00\n",
       "64 -2210302387.224001  2021-01-27 16:00:00\n",
       "62 -2063498883.143603  2021-01-25 16:00:00\n",
       "60 -1876402160.235008  2021-01-21 16:00:00\n",
       "65 -1829942215.359455  2021-01-28 16:00:00"
      ]
     },
     "execution_count": 231,
     "metadata": {},
     "output_type": "execute_result"
    }
   ],
   "source": [
    "# tail amounts\n",
    "last300day.sort_values(by=['return']).iloc[:6,:]"
   ]
  },
  {
   "cell_type": "code",
   "execution_count": 232,
   "id": "49125b08",
   "metadata": {},
   "outputs": [
    {
     "data": {
      "text/plain": [
       "array([-2214829276.4868445, -2212006619.7688866, -2210302387.2240014,\n",
       "       -2063498883.1436028, -1876402160.2350085, -1829942215.3594553],\n",
       "      dtype=object)"
      ]
     },
     "execution_count": 232,
     "metadata": {},
     "output_type": "execute_result"
    }
   ],
   "source": [
    "an_return.sort()\n",
    "tail = an_return[:6]\n",
    "tail"
   ]
  },
  {
   "cell_type": "code",
   "execution_count": 233,
   "id": "e4a47158",
   "metadata": {
    "scrolled": true
   },
   "outputs": [
    {
     "data": {
      "text/plain": [
       "-2067830257.0362997"
      ]
     },
     "execution_count": 233,
     "metadata": {},
     "output_type": "execute_result"
    }
   ],
   "source": [
    "# 98% confidence cVaR\n",
    "an_cVaR = np.mean(an_return[:6])\n",
    "an_cVaR"
   ]
  },
  {
   "cell_type": "code",
   "execution_count": 234,
   "id": "137a66d8",
   "metadata": {},
   "outputs": [
    {
     "data": {
      "text/plain": [
       "array([-3604496576.486845, -3601673919.7688866, -3599969687.224002,\n",
       "       -3453166183.1436033, -3266069460.2350087, -3219609515.3594556],\n",
       "      dtype=object)"
      ]
     },
     "execution_count": 234,
     "metadata": {},
     "output_type": "execute_result"
    }
   ],
   "source": [
    "# loss beyond margin\n",
    "an_return[:6] - initial"
   ]
  },
  {
   "cell_type": "code",
   "execution_count": 235,
   "id": "8c1632cf",
   "metadata": {},
   "outputs": [
    {
     "data": {
      "text/plain": [
       "678162957.0362996"
      ]
     },
     "execution_count": 235,
     "metadata": {},
     "output_type": "execute_result"
    }
   ],
   "source": [
    "# Potential Exposure(98%)\n",
    "PE = np.mean(np.fmax(abs(tail)-initial,0))\n",
    "PE"
   ]
  },
  {
   "cell_type": "code",
   "execution_count": 244,
   "id": "15f4e327",
   "metadata": {},
   "outputs": [
    {
     "data": {
      "image/png": "[encoded data removed]",
      "text/plain": [
       "<Figure size 432x288 with 1 Axes>"
      ]
     },
     "metadata": {
      "needs_background": "light"
     },
     "output_type": "display_data"
    }
   ],
   "source": [
    "plt.hist(an_return,bins=50,alpha=0.7, rwidth=0.85)\n",
    "plt.xlabel('Returns')\n",
    "plt.ylabel('Frequency')\n",
    "plt.title('Histogram of Last 300 Antithetic 10-day Returns')\n",
    "plt.grid(axis='y', alpha=0.75)"
   ]
  },
  {
   "cell_type": "code",
   "execution_count": null,
   "id": "6923a045",
   "metadata": {},
   "outputs": [],
   "source": []
  }
 ],
 "metadata": {
  "kernelspec": {
   "display_name": "Python 3 (ipykernel)",
   "language": "python",
   "name": "python3"
  },
  "language_info": {
   "codemirror_mode": {
    "name": "ipython",
    "version": 3
   },
   "file_extension": ".py",
   "mimetype": "text/x-python",
   "name": "python",
   "nbconvert_exporter": "python",
   "pygments_lexer": "ipython3",
   "version": "3.9.7"
  }
 },
 "nbformat": 4,
 "nbformat_minor": 5
}
